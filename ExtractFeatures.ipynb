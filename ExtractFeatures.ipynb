{
 "cells": [
  {
   "cell_type": "code",
   "execution_count": 17,
   "id": "false-recycling",
   "metadata": {},
   "outputs": [],
   "source": [
    "import spotipy.util as util \n",
    "import json"
   ]
  },
  {
   "cell_type": "markdown",
   "id": "retained-toner",
   "metadata": {},
   "source": [
    "# Accessing the Spotify API"
   ]
  },
  {
   "cell_type": "code",
   "execution_count": 18,
   "id": "17e354bf",
   "metadata": {},
   "outputs": [],
   "source": [
    "def load_config(json_file):\n",
    "    '''\n",
    "    This function takes a json file path as input and returns all the\n",
    "    configuration variables needed: username, client_id, client_secret\n",
    "    redirect_uri and scope in that order.\n",
    "    '''\n",
    "    with open(json_file, \"r\") as config_file:\n",
    "        # Load json config file\n",
    "        data = json.load(config_file)\n",
    "        # Extract config variables\n",
    "        username = data['username']\n",
    "        client_id = data['client_id']\n",
    "        client_secret = data['client_secret']\n",
    "        redirect_uri = data['redirect_uri']\n",
    "        scope = data['scope']\n",
    "    \n",
    "    return username, client_id, client_secret, redirect_uri, scope"
   ]
  },
  {
   "cell_type": "code",
   "execution_count": 14,
   "id": "eligible-pencil",
   "metadata": {},
   "outputs": [],
   "source": [
    "username, client_id, client_secret, redirect_uri, scope = load_config(\"config.json\")\n",
    "\n",
    "token = util.prompt_for_user_token(username=username,\n",
    "                                  client_id=client_id,\n",
    "                                  client_secret=client_secret,\n",
    "                                  redirect_uri=redirect_uri)"
   ]
  },
  {
   "cell_type": "markdown",
   "id": "productive-creation",
   "metadata": {},
   "source": [
    "Spotify does not include the track ID's and therefore we need to define a function in order to retrieve them:"
   ]
  },
  {
   "cell_type": "code",
   "execution_count": 4,
   "id": "oriental-lawrence",
   "metadata": {},
   "outputs": [],
   "source": [
    "import requests\n",
    "def get_id(track_name: str, token: str) -> str:\n",
    "    headers = {\n",
    "    'Accept': 'application/json',\n",
    "    'Content-Type': 'application/json',\n",
    "    'Authorization': f'Bearer ' + token,\n",
    "    }\n",
    "    params = [\n",
    "    ('q', track_name),\n",
    "    ('type', 'track'),\n",
    "    ]\n",
    "    try:\n",
    "        response = requests.get('https://api.spotify.com/v1/search', \n",
    "                    headers = headers, params = params, timeout = 5)\n",
    "        json = response.json()\n",
    "        first_result = json['tracks']['items'][0]\n",
    "        track_id = first_result['id']\n",
    "        return track_id\n",
    "    except:\n",
    "        return None"
   ]
  },
  {
   "cell_type": "markdown",
   "id": "comparative-harrison",
   "metadata": {},
   "source": [
    "## Testing our function:"
   ]
  },
  {
   "cell_type": "code",
   "execution_count": 16,
   "id": "favorite-hotel",
   "metadata": {},
   "outputs": [
    {
     "name": "stdout",
     "output_type": "stream",
     "text": [
      "0aym2LBJBk9DAYuHHutrIl\n"
     ]
    }
   ],
   "source": [
    "lucy_id = get_id('Hey Jude', token)\n",
    "print(lucy_id)"
   ]
  },
  {
   "cell_type": "markdown",
   "id": "developmental-lingerie",
   "metadata": {},
   "source": [
    "## Getting the features"
   ]
  },
  {
   "cell_type": "code",
   "execution_count": 5,
   "id": "communist-advisory",
   "metadata": {},
   "outputs": [],
   "source": [
    "def get_features(track_id: str, token: str) -> dict:\n",
    "    sp = spotipy.Spotify(auth=token)\n",
    "    try:\n",
    "        features = sp.audio_features([track_id])\n",
    "        return features[0]\n",
    "    except:\n",
    "        return None"
   ]
  },
  {
   "cell_type": "code",
   "execution_count": 19,
   "id": "indirect-politics",
   "metadata": {},
   "outputs": [
    {
     "name": "stdout",
     "output_type": "stream",
     "text": [
      "{'danceability': 0.386, 'energy': 0.607, 'key': 10, 'loudness': -7.7, 'mode': 1, 'speechiness': 0.0261, 'acousticness': 0.0112, 'instrumentalness': 1.38e-05, 'liveness': 0.088, 'valence': 0.532, 'tempo': 147.207, 'type': 'audio_features', 'id': '0aym2LBJBk9DAYuHHutrIl', 'uri': 'spotify:track:0aym2LBJBk9DAYuHHutrIl', 'track_href': 'https://api.spotify.com/v1/tracks/0aym2LBJBk9DAYuHHutrIl', 'analysis_url': 'https://api.spotify.com/v1/audio-analysis/0aym2LBJBk9DAYuHHutrIl', 'duration_ms': 425653, 'time_signature': 4}\n"
     ]
    }
   ],
   "source": [
    "lucy_features = get_features(lucy_id, token)\n",
    "print(lucy_features)"
   ]
  },
  {
   "cell_type": "markdown",
   "id": "adverse-permission",
   "metadata": {},
   "source": [
    "## Get streamings"
   ]
  },
  {
   "cell_type": "code",
   "execution_count": 6,
   "id": "blond-knowing",
   "metadata": {},
   "outputs": [],
   "source": [
    "import ast\n",
    "import requests\n",
    "from datetime import datetime\n",
    "from typing import List\n",
    "import spotipy\n",
    "import spotipy.util as util\n",
    "from os import listdir\n",
    "import pandas as pd\n",
    "import history \n",
    "\n",
    "def get_streamings(path: str = 'MyData', \n",
    "                ) -> List[dict]:\n",
    "    \n",
    "    '''Returns a list of streamings form spotify MyData dump.\n",
    "    Will not acquire track features.'''\n",
    "    \n",
    "    files = ['MyData/' + x for x in listdir(path)\n",
    "             if x.split('.')[0][:-1] == 'StreamingHistory']\n",
    "    \n",
    "    all_streamings = []\n",
    "    \n",
    "    for file in files: \n",
    "        with open(file, 'r', encoding='UTF-8') as f:\n",
    "            new_streamings = ast.literal_eval(f.read())\n",
    "            all_streamings += [streaming for streaming in new_streamings]\n",
    "            \n",
    "    #adding datetime field\n",
    "    for streaming in all_streamings:\n",
    "        streaming['datetime'] = datetime.strptime(streaming['endTime'], '%Y-%m-%d %H:%M')    \n",
    "    return all_streamings"
   ]
  },
  {
   "cell_type": "code",
   "execution_count": 7,
   "id": "obvious-prospect",
   "metadata": {},
   "outputs": [],
   "source": [
    "streamings = get_streamings()"
   ]
  },
  {
   "cell_type": "markdown",
   "id": "worse-appendix",
   "metadata": {},
   "source": [
    "# Building our streaming history"
   ]
  },
  {
   "cell_type": "code",
   "execution_count": 20,
   "id": "prescription-filing",
   "metadata": {},
   "outputs": [
    {
     "ename": "NameError",
     "evalue": "name 'get_streamings' is not defined",
     "output_type": "error",
     "traceback": [
      "\u001b[0;31m---------------------------------------------------------------------------\u001b[0m",
      "\u001b[0;31mNameError\u001b[0m                                 Traceback (most recent call last)",
      "\u001b[0;32m<ipython-input-20-bd76b03c8a5d>\u001b[0m in \u001b[0;36m<module>\u001b[0;34m\u001b[0m\n\u001b[0;32m----> 1\u001b[0;31m \u001b[0mstreamings\u001b[0m \u001b[0;34m=\u001b[0m \u001b[0mget_streamings\u001b[0m\u001b[0;34m(\u001b[0m\u001b[0;34m)\u001b[0m\u001b[0;34m\u001b[0m\u001b[0;34m\u001b[0m\u001b[0m\n\u001b[0m\u001b[1;32m      2\u001b[0m unique_tracks = list(set([streaming['trackName']\n\u001b[1;32m      3\u001b[0m                 for streaming in streamings]))\n\u001b[1;32m      4\u001b[0m \u001b[0;34m\u001b[0m\u001b[0m\n\u001b[1;32m      5\u001b[0m \u001b[0mall_features\u001b[0m \u001b[0;34m=\u001b[0m \u001b[0;34m{\u001b[0m\u001b[0;34m}\u001b[0m\u001b[0;34m\u001b[0m\u001b[0;34m\u001b[0m\u001b[0m\n",
      "\u001b[0;31mNameError\u001b[0m: name 'get_streamings' is not defined"
     ]
    }
   ],
   "source": [
    "streamings = get_streamings()\n",
    "unique_tracks = list(set([streaming['trackName']\n",
    "                for streaming in streamings]))\n",
    "\n",
    "all_features = {}\n",
    "for track in unique_tracks:\n",
    "    track_id = get_id(track, token)\n",
    "    features = get_features(track_id, token)\n",
    "    \n",
    "    if features:\n",
    "        all_features[track] = features\n",
    "\n",
    "with_features = []\n",
    "\n",
    "for track_name, features in all_features.items():\n",
    "    with_features.append({'name':track_name, **features})"
   ]
  }
 ],
 "metadata": {
  "interpreter": {
   "hash": "faecf0e416348f745de9f67bccaf9025ec69b76a13fb5ee14e33ceede35de2ff"
  },
  "kernelspec": {
   "display_name": "Python 3.8.1 64-bit",
   "language": "python",
   "name": "python3"
  },
  "language_info": {
   "codemirror_mode": {
    "name": "ipython",
    "version": 3
   },
   "file_extension": ".py",
   "mimetype": "text/x-python",
   "name": "python",
   "nbconvert_exporter": "python",
   "pygments_lexer": "ipython3",
   "version": "3.8.12"
  }
 },
 "nbformat": 4,
 "nbformat_minor": 5
}
